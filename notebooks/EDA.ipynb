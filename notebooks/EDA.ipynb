{
 "cells": [
  {
   "cell_type": "code",
   "id": "initial_id",
   "metadata": {
    "collapsed": true,
    "ExecuteTime": {
     "end_time": "2024-09-07T17:55:05.291312Z",
     "start_time": "2024-09-07T17:55:04.911783Z"
    }
   },
   "source": [
    "import pandas as pd\n",
    "import seaborn as sns\n",
    "import matplotlib.pyplot as plt\n",
    "from sklearn.linear_model import LinearRegression\n",
    "from statsmodels.api import OLS\n",
    "import statsmodels.api as sm"
   ],
   "outputs": [],
   "execution_count": 1
  },
  {
   "cell_type": "code",
   "outputs": [],
   "source": [
    "df = pd.read_csv('~echabanova/Documents/lidl_case_study/scientificProject/data/candy-data.csv')"
   ],
   "metadata": {
    "collapsed": false,
    "ExecuteTime": {
     "end_time": "2024-09-07T14:51:38.703671Z",
     "start_time": "2024-09-07T14:51:38.691153Z"
    }
   },
   "id": "910a785906cfc16c",
   "execution_count": 2
  },
  {
   "cell_type": "code",
   "outputs": [
    {
     "data": {
      "text/plain": "                competitorname  chocolate  fruity  caramel  peanutyalmondy  \\\n0                    100 Grand          1       0        1               0   \n1                 3 Musketeers          1       0        0               0   \n2                     One dime          0       0        0               0   \n3                  One quarter          0       0        0               0   \n4                    Air Heads          0       1        0               0   \n..                         ...        ...     ...      ...             ...   \n80                   Twizzlers          0       1        0               0   \n81                    Warheads          0       1        0               0   \n82        Welch's Fruit Snacks          0       1        0               0   \n83  Werther's Original Caramel          0       0        1               0   \n84                    Whoppers          1       0        0               0   \n\n    nougat  crispedricewafer  hard  bar  pluribus  sugarpercent  pricepercent  \\\n0        0                 1     0    1         0         0.732         0.860   \n1        1                 0     0    1         0         0.604         0.511   \n2        0                 0     0    0         0         0.011         0.116   \n3        0                 0     0    0         0         0.011         0.511   \n4        0                 0     0    0         0         0.906         0.511   \n..     ...               ...   ...  ...       ...           ...           ...   \n80       0                 0     0    0         0         0.220         0.116   \n81       0                 0     1    0         0         0.093         0.116   \n82       0                 0     0    0         1         0.313         0.313   \n83       0                 0     1    0         0         0.186         0.267   \n84       0                 1     0    0         1         0.872         0.848   \n\n    winpercent  winpercent_unit  \n0    66.971725         0.669717  \n1    67.602936         0.676029  \n2    32.261086         0.322611  \n3    46.116505         0.461165  \n4    52.341465         0.523415  \n..         ...              ...  \n80   45.466282         0.454663  \n81   39.011898         0.390119  \n82   44.375519         0.443755  \n83   41.904308         0.419043  \n84   49.524113         0.495241  \n\n[85 rows x 14 columns]",
      "text/html": "<div>\n<style scoped>\n    .dataframe tbody tr th:only-of-type {\n        vertical-align: middle;\n    }\n\n    .dataframe tbody tr th {\n        vertical-align: top;\n    }\n\n    .dataframe thead th {\n        text-align: right;\n    }\n</style>\n<table border=\"1\" class=\"dataframe\">\n  <thead>\n    <tr style=\"text-align: right;\">\n      <th></th>\n      <th>competitorname</th>\n      <th>chocolate</th>\n      <th>fruity</th>\n      <th>caramel</th>\n      <th>peanutyalmondy</th>\n      <th>nougat</th>\n      <th>crispedricewafer</th>\n      <th>hard</th>\n      <th>bar</th>\n      <th>pluribus</th>\n      <th>sugarpercent</th>\n      <th>pricepercent</th>\n      <th>winpercent</th>\n      <th>winpercent_unit</th>\n    </tr>\n  </thead>\n  <tbody>\n    <tr>\n      <th>0</th>\n      <td>100 Grand</td>\n      <td>1</td>\n      <td>0</td>\n      <td>1</td>\n      <td>0</td>\n      <td>0</td>\n      <td>1</td>\n      <td>0</td>\n      <td>1</td>\n      <td>0</td>\n      <td>0.732</td>\n      <td>0.860</td>\n      <td>66.971725</td>\n      <td>0.669717</td>\n    </tr>\n    <tr>\n      <th>1</th>\n      <td>3 Musketeers</td>\n      <td>1</td>\n      <td>0</td>\n      <td>0</td>\n      <td>0</td>\n      <td>1</td>\n      <td>0</td>\n      <td>0</td>\n      <td>1</td>\n      <td>0</td>\n      <td>0.604</td>\n      <td>0.511</td>\n      <td>67.602936</td>\n      <td>0.676029</td>\n    </tr>\n    <tr>\n      <th>2</th>\n      <td>One dime</td>\n      <td>0</td>\n      <td>0</td>\n      <td>0</td>\n      <td>0</td>\n      <td>0</td>\n      <td>0</td>\n      <td>0</td>\n      <td>0</td>\n      <td>0</td>\n      <td>0.011</td>\n      <td>0.116</td>\n      <td>32.261086</td>\n      <td>0.322611</td>\n    </tr>\n    <tr>\n      <th>3</th>\n      <td>One quarter</td>\n      <td>0</td>\n      <td>0</td>\n      <td>0</td>\n      <td>0</td>\n      <td>0</td>\n      <td>0</td>\n      <td>0</td>\n      <td>0</td>\n      <td>0</td>\n      <td>0.011</td>\n      <td>0.511</td>\n      <td>46.116505</td>\n      <td>0.461165</td>\n    </tr>\n    <tr>\n      <th>4</th>\n      <td>Air Heads</td>\n      <td>0</td>\n      <td>1</td>\n      <td>0</td>\n      <td>0</td>\n      <td>0</td>\n      <td>0</td>\n      <td>0</td>\n      <td>0</td>\n      <td>0</td>\n      <td>0.906</td>\n      <td>0.511</td>\n      <td>52.341465</td>\n      <td>0.523415</td>\n    </tr>\n    <tr>\n      <th>...</th>\n      <td>...</td>\n      <td>...</td>\n      <td>...</td>\n      <td>...</td>\n      <td>...</td>\n      <td>...</td>\n      <td>...</td>\n      <td>...</td>\n      <td>...</td>\n      <td>...</td>\n      <td>...</td>\n      <td>...</td>\n      <td>...</td>\n      <td>...</td>\n    </tr>\n    <tr>\n      <th>80</th>\n      <td>Twizzlers</td>\n      <td>0</td>\n      <td>1</td>\n      <td>0</td>\n      <td>0</td>\n      <td>0</td>\n      <td>0</td>\n      <td>0</td>\n      <td>0</td>\n      <td>0</td>\n      <td>0.220</td>\n      <td>0.116</td>\n      <td>45.466282</td>\n      <td>0.454663</td>\n    </tr>\n    <tr>\n      <th>81</th>\n      <td>Warheads</td>\n      <td>0</td>\n      <td>1</td>\n      <td>0</td>\n      <td>0</td>\n      <td>0</td>\n      <td>0</td>\n      <td>1</td>\n      <td>0</td>\n      <td>0</td>\n      <td>0.093</td>\n      <td>0.116</td>\n      <td>39.011898</td>\n      <td>0.390119</td>\n    </tr>\n    <tr>\n      <th>82</th>\n      <td>Welch's Fruit Snacks</td>\n      <td>0</td>\n      <td>1</td>\n      <td>0</td>\n      <td>0</td>\n      <td>0</td>\n      <td>0</td>\n      <td>0</td>\n      <td>0</td>\n      <td>1</td>\n      <td>0.313</td>\n      <td>0.313</td>\n      <td>44.375519</td>\n      <td>0.443755</td>\n    </tr>\n    <tr>\n      <th>83</th>\n      <td>Werther's Original Caramel</td>\n      <td>0</td>\n      <td>0</td>\n      <td>1</td>\n      <td>0</td>\n      <td>0</td>\n      <td>0</td>\n      <td>1</td>\n      <td>0</td>\n      <td>0</td>\n      <td>0.186</td>\n      <td>0.267</td>\n      <td>41.904308</td>\n      <td>0.419043</td>\n    </tr>\n    <tr>\n      <th>84</th>\n      <td>Whoppers</td>\n      <td>1</td>\n      <td>0</td>\n      <td>0</td>\n      <td>0</td>\n      <td>0</td>\n      <td>1</td>\n      <td>0</td>\n      <td>0</td>\n      <td>1</td>\n      <td>0.872</td>\n      <td>0.848</td>\n      <td>49.524113</td>\n      <td>0.495241</td>\n    </tr>\n  </tbody>\n</table>\n<p>85 rows × 14 columns</p>\n</div>"
     },
     "execution_count": 67,
     "metadata": {},
     "output_type": "execute_result"
    }
   ],
   "source": [
    "df"
   ],
   "metadata": {
    "collapsed": false,
    "ExecuteTime": {
     "end_time": "2024-09-07T15:59:10.537856Z",
     "start_time": "2024-09-07T15:59:10.511126Z"
    }
   },
   "id": "b7673d50e6f5d7d1",
   "execution_count": 67
  },
  {
   "cell_type": "code",
   "outputs": [
    {
     "data": {
      "text/plain": "competitorname       object\nchocolate             int64\nfruity                int64\ncaramel               int64\npeanutyalmondy        int64\nnougat                int64\ncrispedricewafer      int64\nhard                  int64\nbar                   int64\npluribus              int64\nsugarpercent        float64\npricepercent        float64\nwinpercent          float64\nwinpercent_unit     float64\ndtype: object"
     },
     "execution_count": 66,
     "metadata": {},
     "output_type": "execute_result"
    }
   ],
   "source": [
    "df.dtypes"
   ],
   "metadata": {
    "collapsed": false,
    "ExecuteTime": {
     "end_time": "2024-09-07T15:47:14.078131Z",
     "start_time": "2024-09-07T15:47:14.058446Z"
    }
   },
   "id": "35db44a2316c7176",
   "execution_count": 66
  },
  {
   "cell_type": "code",
   "outputs": [
    {
     "data": {
      "text/plain": "                  count       mean        std        min        25%  \\\nchocolate          85.0   0.435294   0.498738   0.000000   0.000000   \nfruity             85.0   0.447059   0.500140   0.000000   0.000000   \ncaramel            85.0   0.164706   0.373116   0.000000   0.000000   \npeanutyalmondy     85.0   0.164706   0.373116   0.000000   0.000000   \nnougat             85.0   0.082353   0.276533   0.000000   0.000000   \ncrispedricewafer   85.0   0.082353   0.276533   0.000000   0.000000   \nhard               85.0   0.176471   0.383482   0.000000   0.000000   \nbar                85.0   0.247059   0.433861   0.000000   0.000000   \npluribus           85.0   0.517647   0.502654   0.000000   0.000000   \nsugarpercent       85.0   0.478647   0.282778   0.011000   0.220000   \npricepercent       85.0   0.468882   0.285740   0.011000   0.255000   \nwinpercent         85.0  50.316764  14.714357  22.445341  39.141056   \n\n                        50%        75%       max  \nchocolate          0.000000   1.000000   1.00000  \nfruity             0.000000   1.000000   1.00000  \ncaramel            0.000000   0.000000   1.00000  \npeanutyalmondy     0.000000   0.000000   1.00000  \nnougat             0.000000   0.000000   1.00000  \ncrispedricewafer   0.000000   0.000000   1.00000  \nhard               0.000000   0.000000   1.00000  \nbar                0.000000   0.000000   1.00000  \npluribus           1.000000   1.000000   1.00000  \nsugarpercent       0.465000   0.732000   0.98800  \npricepercent       0.465000   0.651000   0.97600  \nwinpercent        47.829754  59.863998  84.18029  ",
      "text/html": "<div>\n<style scoped>\n    .dataframe tbody tr th:only-of-type {\n        vertical-align: middle;\n    }\n\n    .dataframe tbody tr th {\n        vertical-align: top;\n    }\n\n    .dataframe thead th {\n        text-align: right;\n    }\n</style>\n<table border=\"1\" class=\"dataframe\">\n  <thead>\n    <tr style=\"text-align: right;\">\n      <th></th>\n      <th>count</th>\n      <th>mean</th>\n      <th>std</th>\n      <th>min</th>\n      <th>25%</th>\n      <th>50%</th>\n      <th>75%</th>\n      <th>max</th>\n    </tr>\n  </thead>\n  <tbody>\n    <tr>\n      <th>chocolate</th>\n      <td>85.0</td>\n      <td>0.435294</td>\n      <td>0.498738</td>\n      <td>0.000000</td>\n      <td>0.000000</td>\n      <td>0.000000</td>\n      <td>1.000000</td>\n      <td>1.00000</td>\n    </tr>\n    <tr>\n      <th>fruity</th>\n      <td>85.0</td>\n      <td>0.447059</td>\n      <td>0.500140</td>\n      <td>0.000000</td>\n      <td>0.000000</td>\n      <td>0.000000</td>\n      <td>1.000000</td>\n      <td>1.00000</td>\n    </tr>\n    <tr>\n      <th>caramel</th>\n      <td>85.0</td>\n      <td>0.164706</td>\n      <td>0.373116</td>\n      <td>0.000000</td>\n      <td>0.000000</td>\n      <td>0.000000</td>\n      <td>0.000000</td>\n      <td>1.00000</td>\n    </tr>\n    <tr>\n      <th>peanutyalmondy</th>\n      <td>85.0</td>\n      <td>0.164706</td>\n      <td>0.373116</td>\n      <td>0.000000</td>\n      <td>0.000000</td>\n      <td>0.000000</td>\n      <td>0.000000</td>\n      <td>1.00000</td>\n    </tr>\n    <tr>\n      <th>nougat</th>\n      <td>85.0</td>\n      <td>0.082353</td>\n      <td>0.276533</td>\n      <td>0.000000</td>\n      <td>0.000000</td>\n      <td>0.000000</td>\n      <td>0.000000</td>\n      <td>1.00000</td>\n    </tr>\n    <tr>\n      <th>crispedricewafer</th>\n      <td>85.0</td>\n      <td>0.082353</td>\n      <td>0.276533</td>\n      <td>0.000000</td>\n      <td>0.000000</td>\n      <td>0.000000</td>\n      <td>0.000000</td>\n      <td>1.00000</td>\n    </tr>\n    <tr>\n      <th>hard</th>\n      <td>85.0</td>\n      <td>0.176471</td>\n      <td>0.383482</td>\n      <td>0.000000</td>\n      <td>0.000000</td>\n      <td>0.000000</td>\n      <td>0.000000</td>\n      <td>1.00000</td>\n    </tr>\n    <tr>\n      <th>bar</th>\n      <td>85.0</td>\n      <td>0.247059</td>\n      <td>0.433861</td>\n      <td>0.000000</td>\n      <td>0.000000</td>\n      <td>0.000000</td>\n      <td>0.000000</td>\n      <td>1.00000</td>\n    </tr>\n    <tr>\n      <th>pluribus</th>\n      <td>85.0</td>\n      <td>0.517647</td>\n      <td>0.502654</td>\n      <td>0.000000</td>\n      <td>0.000000</td>\n      <td>1.000000</td>\n      <td>1.000000</td>\n      <td>1.00000</td>\n    </tr>\n    <tr>\n      <th>sugarpercent</th>\n      <td>85.0</td>\n      <td>0.478647</td>\n      <td>0.282778</td>\n      <td>0.011000</td>\n      <td>0.220000</td>\n      <td>0.465000</td>\n      <td>0.732000</td>\n      <td>0.98800</td>\n    </tr>\n    <tr>\n      <th>pricepercent</th>\n      <td>85.0</td>\n      <td>0.468882</td>\n      <td>0.285740</td>\n      <td>0.011000</td>\n      <td>0.255000</td>\n      <td>0.465000</td>\n      <td>0.651000</td>\n      <td>0.97600</td>\n    </tr>\n    <tr>\n      <th>winpercent</th>\n      <td>85.0</td>\n      <td>50.316764</td>\n      <td>14.714357</td>\n      <td>22.445341</td>\n      <td>39.141056</td>\n      <td>47.829754</td>\n      <td>59.863998</td>\n      <td>84.18029</td>\n    </tr>\n  </tbody>\n</table>\n</div>"
     },
     "execution_count": 4,
     "metadata": {},
     "output_type": "execute_result"
    }
   ],
   "source": [
    "df.describe().transpose()"
   ],
   "metadata": {
    "collapsed": false,
    "ExecuteTime": {
     "end_time": "2024-09-07T14:51:38.732947Z",
     "start_time": "2024-09-07T14:51:38.718137Z"
    }
   },
   "id": "f7e3f10c36d07d1d",
   "execution_count": 4
  },
  {
   "cell_type": "markdown",
   "source": [
    "- Except for winpercent, pricepercent and sugarpercent, all other columns are binary.\n",
    "- DV is winpercent which ranges between 0 and 100%, i.e., between 0 and 1 - it may have implications for model selection. "
   ],
   "metadata": {
    "collapsed": false
   },
   "id": "d0e46960622030bd"
  },
  {
   "cell_type": "code",
   "outputs": [
    {
     "data": {
      "text/plain": "Index(['competitorname', 'chocolate', 'fruity', 'caramel', 'peanutyalmondy',\n       'nougat', 'crispedricewafer', 'hard', 'bar', 'pluribus', 'sugarpercent',\n       'pricepercent', 'winpercent'],\n      dtype='object')"
     },
     "execution_count": 5,
     "metadata": {},
     "output_type": "execute_result"
    }
   ],
   "source": [
    "df.columns"
   ],
   "metadata": {
    "collapsed": false,
    "ExecuteTime": {
     "end_time": "2024-09-07T14:51:38.737138Z",
     "start_time": "2024-09-07T14:51:38.733961Z"
    }
   },
   "id": "3e03c73a4240a26f",
   "execution_count": 5
  },
  {
   "cell_type": "code",
   "outputs": [
    {
     "name": "stdout",
     "output_type": "stream",
     "text": [
      "chocolate\n",
      "[1 0]\n",
      "fruity\n",
      "[0 1]\n",
      "caramel\n",
      "[1 0]\n",
      "peanutyalmondy\n",
      "[0 1]\n",
      "nougat\n",
      "[0 1]\n",
      "crispedricewafer\n",
      "[1 0]\n",
      "hard\n",
      "[0 1]\n",
      "bar\n",
      "[1 0]\n",
      "pluribus\n",
      "[0 1]\n"
     ]
    }
   ],
   "source": [
    "for col in ['chocolate', 'fruity', 'caramel', 'peanutyalmondy',\n",
    "            'nougat', 'crispedricewafer', 'hard', 'bar', 'pluribus']:\n",
    "    print(col)\n",
    "    print(df[col].unique())"
   ],
   "metadata": {
    "collapsed": false,
    "ExecuteTime": {
     "end_time": "2024-09-07T14:51:38.742653Z",
     "start_time": "2024-09-07T14:51:38.737879Z"
    }
   },
   "id": "22e584c9bf42e27d",
   "execution_count": 6
  },
  {
   "cell_type": "markdown",
   "source": [
    "- All binary columns have indeed only two unique values."
   ],
   "metadata": {
    "collapsed": false
   },
   "id": "e66af83a644d3f4e"
  },
  {
   "cell_type": "code",
   "outputs": [
    {
     "data": {
      "text/plain": "<pandas.io.formats.style.Styler at 0x12275ba30>",
      "text/html": "<style type=\"text/css\">\n#T_146b7_row0_col0, #T_146b7_row1_col1, #T_146b7_row2_col2, #T_146b7_row3_col3, #T_146b7_row4_col4, #T_146b7_row5_col5, #T_146b7_row6_col6, #T_146b7_row7_col7, #T_146b7_row8_col8, #T_146b7_row9_col9, #T_146b7_row10_col10, #T_146b7_row11_col11 {\n  background-color: #b40426;\n  color: #f1f1f1;\n}\n#T_146b7_row0_col1, #T_146b7_row0_col6, #T_146b7_row1_col0, #T_146b7_row1_col2, #T_146b7_row1_col3, #T_146b7_row1_col5, #T_146b7_row1_col9, #T_146b7_row1_col10, #T_146b7_row1_col11, #T_146b7_row7_col8, #T_146b7_row8_col4, #T_146b7_row8_col7 {\n  background-color: #3b4cc0;\n  color: #f1f1f1;\n}\n#T_146b7_row0_col2, #T_146b7_row4_col3 {\n  background-color: #ccd9ed;\n  color: #000000;\n}\n#T_146b7_row0_col3 {\n  background-color: #ead4c8;\n  color: #000000;\n}\n#T_146b7_row0_col4, #T_146b7_row2_col11 {\n  background-color: #cad8ef;\n  color: #000000;\n}\n#T_146b7_row0_col5 {\n  background-color: #d8dce2;\n  color: #000000;\n}\n#T_146b7_row0_col7 {\n  background-color: #f49a7b;\n  color: #000000;\n}\n#T_146b7_row0_col8, #T_146b7_row6_col2 {\n  background-color: #6c8ff1;\n  color: #f1f1f1;\n}\n#T_146b7_row0_col9 {\n  background-color: #6485ec;\n  color: #f1f1f1;\n}\n#T_146b7_row0_col10 {\n  background-color: #f7bca1;\n  color: #000000;\n}\n#T_146b7_row0_col11 {\n  background-color: #f59f80;\n  color: #000000;\n}\n#T_146b7_row1_col4 {\n  background-color: #445acc;\n  color: #f1f1f1;\n}\n#T_146b7_row1_col6, #T_146b7_row7_col5 {\n  background-color: #e8d6cc;\n  color: #000000;\n}\n#T_146b7_row1_col7, #T_146b7_row8_col2 {\n  background-color: #4961d2;\n  color: #f1f1f1;\n}\n#T_146b7_row1_col8 {\n  background-color: #ebd3c6;\n  color: #000000;\n}\n#T_146b7_row2_col0, #T_146b7_row3_col11 {\n  background-color: #edd2c3;\n  color: #000000;\n}\n#T_146b7_row2_col1, #T_146b7_row5_col8, #T_146b7_row8_col0, #T_146b7_row10_col8 {\n  background-color: #86a9fc;\n  color: #f1f1f1;\n}\n#T_146b7_row2_col3, #T_146b7_row9_col6 {\n  background-color: #a7c5fe;\n  color: #000000;\n}\n#T_146b7_row2_col4, #T_146b7_row9_col0 {\n  background-color: #d9dce1;\n  color: #000000;\n}\n#T_146b7_row2_col5, #T_146b7_row6_col8 {\n  background-color: #bad0f8;\n  color: #000000;\n}\n#T_146b7_row2_col6 {\n  background-color: #6f92f3;\n  color: #f1f1f1;\n}\n#T_146b7_row2_col7 {\n  background-color: #efcfbf;\n  color: #000000;\n}\n#T_146b7_row2_col8, #T_146b7_row6_col7 {\n  background-color: #7da0f9;\n  color: #f1f1f1;\n}\n#T_146b7_row2_col9 {\n  background-color: #8caffe;\n  color: #000000;\n}\n#T_146b7_row2_col10 {\n  background-color: #d7dce3;\n  color: #000000;\n}\n#T_146b7_row3_col0, #T_146b7_row11_col7 {\n  background-color: #f6bfa6;\n  color: #000000;\n}\n#T_146b7_row3_col1, #T_146b7_row3_col5 {\n  background-color: #7a9df8;\n  color: #f1f1f1;\n}\n#T_146b7_row3_col2 {\n  background-color: #9dbdff;\n  color: #000000;\n}\n#T_146b7_row3_col4, #T_146b7_row9_col8 {\n  background-color: #c0d4f5;\n  color: #000000;\n}\n#T_146b7_row3_col6, #T_146b7_row6_col5 {\n  background-color: #5a78e4;\n  color: #f1f1f1;\n}\n#T_146b7_row3_col7 {\n  background-color: #e6d7cf;\n  color: #000000;\n}\n#T_146b7_row3_col8 {\n  background-color: #8badfd;\n  color: #000000;\n}\n#T_146b7_row3_col9 {\n  background-color: #5f7fe8;\n  color: #f1f1f1;\n}\n#T_146b7_row3_col10 {\n  background-color: #e1dad6;\n  color: #000000;\n}\n#T_146b7_row4_col0 {\n  background-color: #edd1c2;\n  color: #000000;\n}\n#T_146b7_row4_col1, #T_146b7_row5_col1, #T_146b7_row5_col3 {\n  background-color: #94b6ff;\n  color: #000000;\n}\n#T_146b7_row4_col2 {\n  background-color: #dcdddd;\n  color: #000000;\n}\n#T_146b7_row4_col5 {\n  background-color: #6788ee;\n  color: #f1f1f1;\n}\n#T_146b7_row4_col6, #T_146b7_row5_col6 {\n  background-color: #6b8df0;\n  color: #f1f1f1;\n}\n#T_146b7_row4_col7 {\n  background-color: #f7ac8e;\n  color: #000000;\n}\n#T_146b7_row4_col8, #T_146b7_row10_col1 {\n  background-color: #7396f5;\n  color: #f1f1f1;\n}\n#T_146b7_row4_col9 {\n  background-color: #6a8bef;\n  color: #f1f1f1;\n}\n#T_146b7_row4_col10 {\n  background-color: #c3d5f4;\n  color: #000000;\n}\n#T_146b7_row4_col11 {\n  background-color: #c6d6f1;\n  color: #000000;\n}\n#T_146b7_row5_col0 {\n  background-color: #f4c5ad;\n  color: #000000;\n}\n#T_146b7_row5_col2, #T_146b7_row11_col2 {\n  background-color: #c4d5f3;\n  color: #000000;\n}\n#T_146b7_row5_col4 {\n  background-color: #7093f3;\n  color: #f1f1f1;\n}\n#T_146b7_row5_col7 {\n  background-color: #f5c0a7;\n  color: #000000;\n}\n#T_146b7_row5_col9 {\n  background-color: #5977e3;\n  color: #f1f1f1;\n}\n#T_146b7_row5_col10 {\n  background-color: #e4d9d2;\n  color: #000000;\n}\n#T_146b7_row5_col11 {\n  background-color: #dfdbd9;\n  color: #000000;\n}\n#T_146b7_row6_col0 {\n  background-color: #85a8fc;\n  color: #f1f1f1;\n}\n#T_146b7_row6_col1 {\n  background-color: #f6bda2;\n  color: #000000;\n}\n#T_146b7_row6_col3, #T_146b7_row8_col3 {\n  background-color: #6687ed;\n  color: #f1f1f1;\n}\n#T_146b7_row6_col4, #T_146b7_row6_col10, #T_146b7_row7_col1, #T_146b7_row7_col9 {\n  background-color: #6384eb;\n  color: #f1f1f1;\n}\n#T_146b7_row6_col9 {\n  background-color: #6180e9;\n  color: #f1f1f1;\n}\n#T_146b7_row6_col11 {\n  background-color: #4a63d3;\n  color: #f1f1f1;\n}\n#T_146b7_row7_col0 {\n  background-color: #f29274;\n  color: #f1f1f1;\n}\n#T_146b7_row7_col2 {\n  background-color: #dddcdc;\n  color: #000000;\n}\n#T_146b7_row7_col3, #T_146b7_row10_col5 {\n  background-color: #d5dbe5;\n  color: #000000;\n}\n#T_146b7_row7_col4 {\n  background-color: #f5c1a9;\n  color: #000000;\n}\n#T_146b7_row7_col6 {\n  background-color: #4c66d6;\n  color: #f1f1f1;\n}\n#T_146b7_row7_col10 {\n  background-color: #f7b99e;\n  color: #000000;\n}\n#T_146b7_row7_col11 {\n  background-color: #f0cdbb;\n  color: #000000;\n}\n#T_146b7_row8_col1 {\n  background-color: #f2cbb7;\n  color: #000000;\n}\n#T_146b7_row8_col5 {\n  background-color: #455cce;\n  color: #f1f1f1;\n}\n#T_146b7_row8_col6, #T_146b7_row9_col5 {\n  background-color: #93b5fe;\n  color: #000000;\n}\n#T_146b7_row8_col9, #T_146b7_row10_col6 {\n  background-color: #516ddb;\n  color: #f1f1f1;\n}\n#T_146b7_row8_col10 {\n  background-color: #688aef;\n  color: #f1f1f1;\n}\n#T_146b7_row8_col11 {\n  background-color: #5875e1;\n  color: #f1f1f1;\n}\n#T_146b7_row9_col1 {\n  background-color: #c1d4f4;\n  color: #000000;\n}\n#T_146b7_row9_col2 {\n  background-color: #c5d6f2;\n  color: #000000;\n}\n#T_146b7_row9_col3 {\n  background-color: #afcafc;\n  color: #000000;\n}\n#T_146b7_row9_col4 {\n  background-color: #a9c6fd;\n  color: #000000;\n}\n#T_146b7_row9_col7 {\n  background-color: #cbd8ee;\n  color: #000000;\n}\n#T_146b7_row9_col10 {\n  background-color: #e5d8d1;\n  color: #000000;\n}\n#T_146b7_row9_col11, #T_146b7_row10_col2 {\n  background-color: #cdd9ec;\n  color: #000000;\n}\n#T_146b7_row10_col0 {\n  background-color: #f7a688;\n  color: #000000;\n}\n#T_146b7_row10_col3 {\n  background-color: #dedcdb;\n  color: #000000;\n}\n#T_146b7_row10_col4, #T_146b7_row10_col9 {\n  background-color: #b1cbfc;\n  color: #000000;\n}\n#T_146b7_row10_col7 {\n  background-color: #f7ad90;\n  color: #000000;\n}\n#T_146b7_row10_col11 {\n  background-color: #e3d9d3;\n  color: #000000;\n}\n#T_146b7_row11_col0 {\n  background-color: #ef886b;\n  color: #f1f1f1;\n}\n#T_146b7_row11_col1 {\n  background-color: #7ea1fa;\n  color: #f1f1f1;\n}\n#T_146b7_row11_col3 {\n  background-color: #eed0c0;\n  color: #000000;\n}\n#T_146b7_row11_col4 {\n  background-color: #bcd2f7;\n  color: #000000;\n}\n#T_146b7_row11_col5 {\n  background-color: #d4dbe6;\n  color: #000000;\n}\n#T_146b7_row11_col6 {\n  background-color: #4257c9;\n  color: #f1f1f1;\n}\n#T_146b7_row11_col8 {\n  background-color: #81a4fb;\n  color: #f1f1f1;\n}\n#T_146b7_row11_col9 {\n  background-color: #8fb1fe;\n  color: #000000;\n}\n#T_146b7_row11_col10 {\n  background-color: #e7d7ce;\n  color: #000000;\n}\n</style>\n<table id=\"T_146b7\">\n  <thead>\n    <tr>\n      <th class=\"blank level0\" >&nbsp;</th>\n      <th id=\"T_146b7_level0_col0\" class=\"col_heading level0 col0\" >chocolate</th>\n      <th id=\"T_146b7_level0_col1\" class=\"col_heading level0 col1\" >fruity</th>\n      <th id=\"T_146b7_level0_col2\" class=\"col_heading level0 col2\" >caramel</th>\n      <th id=\"T_146b7_level0_col3\" class=\"col_heading level0 col3\" >peanutyalmondy</th>\n      <th id=\"T_146b7_level0_col4\" class=\"col_heading level0 col4\" >nougat</th>\n      <th id=\"T_146b7_level0_col5\" class=\"col_heading level0 col5\" >crispedricewafer</th>\n      <th id=\"T_146b7_level0_col6\" class=\"col_heading level0 col6\" >hard</th>\n      <th id=\"T_146b7_level0_col7\" class=\"col_heading level0 col7\" >bar</th>\n      <th id=\"T_146b7_level0_col8\" class=\"col_heading level0 col8\" >pluribus</th>\n      <th id=\"T_146b7_level0_col9\" class=\"col_heading level0 col9\" >sugarpercent</th>\n      <th id=\"T_146b7_level0_col10\" class=\"col_heading level0 col10\" >pricepercent</th>\n      <th id=\"T_146b7_level0_col11\" class=\"col_heading level0 col11\" >winpercent</th>\n    </tr>\n  </thead>\n  <tbody>\n    <tr>\n      <th id=\"T_146b7_level0_row0\" class=\"row_heading level0 row0\" >chocolate</th>\n      <td id=\"T_146b7_row0_col0\" class=\"data row0 col0\" >1.000000</td>\n      <td id=\"T_146b7_row0_col1\" class=\"data row0 col1\" >-0.741721</td>\n      <td id=\"T_146b7_row0_col2\" class=\"data row0 col2\" >0.249875</td>\n      <td id=\"T_146b7_row0_col3\" class=\"data row0 col3\" >0.377824</td>\n      <td id=\"T_146b7_row0_col4\" class=\"data row0 col4\" >0.254892</td>\n      <td id=\"T_146b7_row0_col5\" class=\"data row0 col5\" >0.341210</td>\n      <td id=\"T_146b7_row0_col6\" class=\"data row0 col6\" >-0.344177</td>\n      <td id=\"T_146b7_row0_col7\" class=\"data row0 col7\" >0.597421</td>\n      <td id=\"T_146b7_row0_col8\" class=\"data row0 col8\" >-0.339675</td>\n      <td id=\"T_146b7_row0_col9\" class=\"data row0 col9\" >0.104169</td>\n      <td id=\"T_146b7_row0_col10\" class=\"data row0 col10\" >0.504675</td>\n      <td id=\"T_146b7_row0_col11\" class=\"data row0 col11\" >0.636517</td>\n    </tr>\n    <tr>\n      <th id=\"T_146b7_level0_row1\" class=\"row_heading level0 row1\" >fruity</th>\n      <td id=\"T_146b7_row1_col0\" class=\"data row1 col0\" >-0.741721</td>\n      <td id=\"T_146b7_row1_col1\" class=\"data row1 col1\" >1.000000</td>\n      <td id=\"T_146b7_row1_col2\" class=\"data row1 col2\" >-0.335485</td>\n      <td id=\"T_146b7_row1_col3\" class=\"data row1 col3\" >-0.399280</td>\n      <td id=\"T_146b7_row1_col4\" class=\"data row1 col4\" >-0.269367</td>\n      <td id=\"T_146b7_row1_col5\" class=\"data row1 col5\" >-0.269367</td>\n      <td id=\"T_146b7_row1_col6\" class=\"data row1 col6\" >0.390678</td>\n      <td id=\"T_146b7_row1_col7\" class=\"data row1 col7\" >-0.515066</td>\n      <td id=\"T_146b7_row1_col8\" class=\"data row1 col8\" >0.299725</td>\n      <td id=\"T_146b7_row1_col9\" class=\"data row1 col9\" >-0.034393</td>\n      <td id=\"T_146b7_row1_col10\" class=\"data row1 col10\" >-0.430969</td>\n      <td id=\"T_146b7_row1_col11\" class=\"data row1 col11\" >-0.380938</td>\n    </tr>\n    <tr>\n      <th id=\"T_146b7_level0_row2\" class=\"row_heading level0 row2\" >caramel</th>\n      <td id=\"T_146b7_row2_col0\" class=\"data row2 col0\" >0.249875</td>\n      <td id=\"T_146b7_row2_col1\" class=\"data row2 col1\" >-0.335485</td>\n      <td id=\"T_146b7_row2_col2\" class=\"data row2 col2\" >1.000000</td>\n      <td id=\"T_146b7_row2_col3\" class=\"data row2 col3\" >0.059356</td>\n      <td id=\"T_146b7_row2_col4\" class=\"data row2 col4\" >0.328493</td>\n      <td id=\"T_146b7_row2_col5\" class=\"data row2 col5\" >0.213113</td>\n      <td id=\"T_146b7_row2_col6\" class=\"data row2 col6\" >-0.122355</td>\n      <td id=\"T_146b7_row2_col7\" class=\"data row2 col7\" >0.333960</td>\n      <td id=\"T_146b7_row2_col8\" class=\"data row2 col8\" >-0.269585</td>\n      <td id=\"T_146b7_row2_col9\" class=\"data row2 col9\" >0.221933</td>\n      <td id=\"T_146b7_row2_col10\" class=\"data row2 col10\" >0.254327</td>\n      <td id=\"T_146b7_row2_col11\" class=\"data row2 col11\" >0.213416</td>\n    </tr>\n    <tr>\n      <th id=\"T_146b7_level0_row3\" class=\"row_heading level0 row3\" >peanutyalmondy</th>\n      <td id=\"T_146b7_row3_col0\" class=\"data row3 col0\" >0.377824</td>\n      <td id=\"T_146b7_row3_col1\" class=\"data row3 col1\" >-0.399280</td>\n      <td id=\"T_146b7_row3_col2\" class=\"data row3 col2\" >0.059356</td>\n      <td id=\"T_146b7_row3_col3\" class=\"data row3 col3\" >1.000000</td>\n      <td id=\"T_146b7_row3_col4\" class=\"data row3 col4\" >0.213113</td>\n      <td id=\"T_146b7_row3_col5\" class=\"data row3 col5\" >-0.017646</td>\n      <td id=\"T_146b7_row3_col6\" class=\"data row3 col6\" >-0.205557</td>\n      <td id=\"T_146b7_row3_col7\" class=\"data row3 col7\" >0.260420</td>\n      <td id=\"T_146b7_row3_col8\" class=\"data row3 col8\" >-0.206109</td>\n      <td id=\"T_146b7_row3_col9\" class=\"data row3 col9\" >0.087889</td>\n      <td id=\"T_146b7_row3_col10\" class=\"data row3 col10\" >0.309153</td>\n      <td id=\"T_146b7_row3_col11\" class=\"data row3 col11\" >0.406192</td>\n    </tr>\n    <tr>\n      <th id=\"T_146b7_level0_row4\" class=\"row_heading level0 row4\" >nougat</th>\n      <td id=\"T_146b7_row4_col0\" class=\"data row4 col0\" >0.254892</td>\n      <td id=\"T_146b7_row4_col1\" class=\"data row4 col1\" >-0.269367</td>\n      <td id=\"T_146b7_row4_col2\" class=\"data row4 col2\" >0.328493</td>\n      <td id=\"T_146b7_row4_col3\" class=\"data row4 col3\" >0.213113</td>\n      <td id=\"T_146b7_row4_col4\" class=\"data row4 col4\" >1.000000</td>\n      <td id=\"T_146b7_row4_col5\" class=\"data row4 col5\" >-0.089744</td>\n      <td id=\"T_146b7_row4_col6\" class=\"data row4 col6\" >-0.138675</td>\n      <td id=\"T_146b7_row4_col7\" class=\"data row4 col7\" >0.522976</td>\n      <td id=\"T_146b7_row4_col8\" class=\"data row4 col8\" >-0.310339</td>\n      <td id=\"T_146b7_row4_col9\" class=\"data row4 col9\" >0.123081</td>\n      <td id=\"T_146b7_row4_col10\" class=\"data row4 col10\" >0.153196</td>\n      <td id=\"T_146b7_row4_col11\" class=\"data row4 col11\" >0.199375</td>\n    </tr>\n    <tr>\n      <th id=\"T_146b7_level0_row5\" class=\"row_heading level0 row5\" >crispedricewafer</th>\n      <td id=\"T_146b7_row5_col0\" class=\"data row5 col0\" >0.341210</td>\n      <td id=\"T_146b7_row5_col1\" class=\"data row5 col1\" >-0.269367</td>\n      <td id=\"T_146b7_row5_col2\" class=\"data row5 col2\" >0.213113</td>\n      <td id=\"T_146b7_row5_col3\" class=\"data row5 col3\" >-0.017646</td>\n      <td id=\"T_146b7_row5_col4\" class=\"data row5 col4\" >-0.089744</td>\n      <td id=\"T_146b7_row5_col5\" class=\"data row5 col5\" >1.000000</td>\n      <td id=\"T_146b7_row5_col6\" class=\"data row5 col6\" >-0.138675</td>\n      <td id=\"T_146b7_row5_col7\" class=\"data row5 col7\" >0.423751</td>\n      <td id=\"T_146b7_row5_col8\" class=\"data row5 col8\" >-0.224693</td>\n      <td id=\"T_146b7_row5_col9\" class=\"data row5 col9\" >0.069950</td>\n      <td id=\"T_146b7_row5_col10\" class=\"data row5 col10\" >0.328265</td>\n      <td id=\"T_146b7_row5_col11\" class=\"data row5 col11\" >0.324680</td>\n    </tr>\n    <tr>\n      <th id=\"T_146b7_level0_row6\" class=\"row_heading level0 row6\" >hard</th>\n      <td id=\"T_146b7_row6_col0\" class=\"data row6 col0\" >-0.344177</td>\n      <td id=\"T_146b7_row6_col1\" class=\"data row6 col1\" >0.390678</td>\n      <td id=\"T_146b7_row6_col2\" class=\"data row6 col2\" >-0.122355</td>\n      <td id=\"T_146b7_row6_col3\" class=\"data row6 col3\" >-0.205557</td>\n      <td id=\"T_146b7_row6_col4\" class=\"data row6 col4\" >-0.138675</td>\n      <td id=\"T_146b7_row6_col5\" class=\"data row6 col5\" >-0.138675</td>\n      <td id=\"T_146b7_row6_col6\" class=\"data row6 col6\" >1.000000</td>\n      <td id=\"T_146b7_row6_col7\" class=\"data row6 col7\" >-0.265165</td>\n      <td id=\"T_146b7_row6_col8\" class=\"data row6 col8\" >0.014532</td>\n      <td id=\"T_146b7_row6_col9\" class=\"data row6 col9\" >0.091810</td>\n      <td id=\"T_146b7_row6_col10\" class=\"data row6 col10\" >-0.244365</td>\n      <td id=\"T_146b7_row6_col11\" class=\"data row6 col11\" >-0.310382</td>\n    </tr>\n    <tr>\n      <th id=\"T_146b7_level0_row7\" class=\"row_heading level0 row7\" >bar</th>\n      <td id=\"T_146b7_row7_col0\" class=\"data row7 col0\" >0.597421</td>\n      <td id=\"T_146b7_row7_col1\" class=\"data row7 col1\" >-0.515066</td>\n      <td id=\"T_146b7_row7_col2\" class=\"data row7 col2\" >0.333960</td>\n      <td id=\"T_146b7_row7_col3\" class=\"data row7 col3\" >0.260420</td>\n      <td id=\"T_146b7_row7_col4\" class=\"data row7 col4\" >0.522976</td>\n      <td id=\"T_146b7_row7_col5\" class=\"data row7 col5\" >0.423751</td>\n      <td id=\"T_146b7_row7_col6\" class=\"data row7 col6\" >-0.265165</td>\n      <td id=\"T_146b7_row7_col7\" class=\"data row7 col7\" >1.000000</td>\n      <td id=\"T_146b7_row7_col8\" class=\"data row7 col8\" >-0.593409</td>\n      <td id=\"T_146b7_row7_col9\" class=\"data row7 col9\" >0.099985</td>\n      <td id=\"T_146b7_row7_col10\" class=\"data row7 col10\" >0.518407</td>\n      <td id=\"T_146b7_row7_col11\" class=\"data row7 col11\" >0.429929</td>\n    </tr>\n    <tr>\n      <th id=\"T_146b7_level0_row8\" class=\"row_heading level0 row8\" >pluribus</th>\n      <td id=\"T_146b7_row8_col0\" class=\"data row8 col0\" >-0.339675</td>\n      <td id=\"T_146b7_row8_col1\" class=\"data row8 col1\" >0.299725</td>\n      <td id=\"T_146b7_row8_col2\" class=\"data row8 col2\" >-0.269585</td>\n      <td id=\"T_146b7_row8_col3\" class=\"data row8 col3\" >-0.206109</td>\n      <td id=\"T_146b7_row8_col4\" class=\"data row8 col4\" >-0.310339</td>\n      <td id=\"T_146b7_row8_col5\" class=\"data row8 col5\" >-0.224693</td>\n      <td id=\"T_146b7_row8_col6\" class=\"data row8 col6\" >0.014532</td>\n      <td id=\"T_146b7_row8_col7\" class=\"data row8 col7\" >-0.593409</td>\n      <td id=\"T_146b7_row8_col8\" class=\"data row8 col8\" >1.000000</td>\n      <td id=\"T_146b7_row8_col9\" class=\"data row8 col9\" >0.045523</td>\n      <td id=\"T_146b7_row8_col10\" class=\"data row8 col10\" >-0.220794</td>\n      <td id=\"T_146b7_row8_col11\" class=\"data row8 col11\" >-0.247448</td>\n    </tr>\n    <tr>\n      <th id=\"T_146b7_level0_row9\" class=\"row_heading level0 row9\" >sugarpercent</th>\n      <td id=\"T_146b7_row9_col0\" class=\"data row9 col0\" >0.104169</td>\n      <td id=\"T_146b7_row9_col1\" class=\"data row9 col1\" >-0.034393</td>\n      <td id=\"T_146b7_row9_col2\" class=\"data row9 col2\" >0.221933</td>\n      <td id=\"T_146b7_row9_col3\" class=\"data row9 col3\" >0.087889</td>\n      <td id=\"T_146b7_row9_col4\" class=\"data row9 col4\" >0.123081</td>\n      <td id=\"T_146b7_row9_col5\" class=\"data row9 col5\" >0.069950</td>\n      <td id=\"T_146b7_row9_col6\" class=\"data row9 col6\" >0.091810</td>\n      <td id=\"T_146b7_row9_col7\" class=\"data row9 col7\" >0.099985</td>\n      <td id=\"T_146b7_row9_col8\" class=\"data row9 col8\" >0.045523</td>\n      <td id=\"T_146b7_row9_col9\" class=\"data row9 col9\" >1.000000</td>\n      <td id=\"T_146b7_row9_col10\" class=\"data row9 col10\" >0.329706</td>\n      <td id=\"T_146b7_row9_col11\" class=\"data row9 col11\" >0.229151</td>\n    </tr>\n    <tr>\n      <th id=\"T_146b7_level0_row10\" class=\"row_heading level0 row10\" >pricepercent</th>\n      <td id=\"T_146b7_row10_col0\" class=\"data row10 col0\" >0.504675</td>\n      <td id=\"T_146b7_row10_col1\" class=\"data row10 col1\" >-0.430969</td>\n      <td id=\"T_146b7_row10_col2\" class=\"data row10 col2\" >0.254327</td>\n      <td id=\"T_146b7_row10_col3\" class=\"data row10 col3\" >0.309153</td>\n      <td id=\"T_146b7_row10_col4\" class=\"data row10 col4\" >0.153196</td>\n      <td id=\"T_146b7_row10_col5\" class=\"data row10 col5\" >0.328265</td>\n      <td id=\"T_146b7_row10_col6\" class=\"data row10 col6\" >-0.244365</td>\n      <td id=\"T_146b7_row10_col7\" class=\"data row10 col7\" >0.518407</td>\n      <td id=\"T_146b7_row10_col8\" class=\"data row10 col8\" >-0.220794</td>\n      <td id=\"T_146b7_row10_col9\" class=\"data row10 col9\" >0.329706</td>\n      <td id=\"T_146b7_row10_col10\" class=\"data row10 col10\" >1.000000</td>\n      <td id=\"T_146b7_row10_col11\" class=\"data row10 col11\" >0.345325</td>\n    </tr>\n    <tr>\n      <th id=\"T_146b7_level0_row11\" class=\"row_heading level0 row11\" >winpercent</th>\n      <td id=\"T_146b7_row11_col0\" class=\"data row11 col0\" >0.636517</td>\n      <td id=\"T_146b7_row11_col1\" class=\"data row11 col1\" >-0.380938</td>\n      <td id=\"T_146b7_row11_col2\" class=\"data row11 col2\" >0.213416</td>\n      <td id=\"T_146b7_row11_col3\" class=\"data row11 col3\" >0.406192</td>\n      <td id=\"T_146b7_row11_col4\" class=\"data row11 col4\" >0.199375</td>\n      <td id=\"T_146b7_row11_col5\" class=\"data row11 col5\" >0.324680</td>\n      <td id=\"T_146b7_row11_col6\" class=\"data row11 col6\" >-0.310382</td>\n      <td id=\"T_146b7_row11_col7\" class=\"data row11 col7\" >0.429929</td>\n      <td id=\"T_146b7_row11_col8\" class=\"data row11 col8\" >-0.247448</td>\n      <td id=\"T_146b7_row11_col9\" class=\"data row11 col9\" >0.229151</td>\n      <td id=\"T_146b7_row11_col10\" class=\"data row11 col10\" >0.345325</td>\n      <td id=\"T_146b7_row11_col11\" class=\"data row11 col11\" >1.000000</td>\n    </tr>\n  </tbody>\n</table>\n"
     },
     "execution_count": 7,
     "metadata": {},
     "output_type": "execute_result"
    }
   ],
   "source": [
    "corr = df.corr(numeric_only=True)\n",
    "corr.style.background_gradient(cmap='coolwarm')"
   ],
   "metadata": {
    "collapsed": false,
    "ExecuteTime": {
     "end_time": "2024-09-07T14:51:38.792415Z",
     "start_time": "2024-09-07T14:51:38.743380Z"
    }
   },
   "id": "c6391565f81ec412",
   "execution_count": 7
  },
  {
   "cell_type": "markdown",
   "source": [
    "- Strong positive correlation between winpercent and chocolate (0.637) and winpercent, bar (0.430), peanutyalmondy (0.406), pricepercent (0.345).\n",
    "- It suggets that properties like chocolate, penuatyalmody, bar are important candy features for winpercent.\n",
    "- Positive correlation between price ranking and winpercent (0.345) suggests that pricier candies are more popular. "
   ],
   "metadata": {
    "collapsed": false
   },
   "id": "c439ade92d087b12"
  },
  {
   "cell_type": "code",
   "outputs": [
    {
     "data": {
      "text/plain": "<Axes: >"
     },
     "execution_count": 9,
     "metadata": {},
     "output_type": "execute_result"
    },
    {
     "data": {
      "text/plain": "<Figure size 640x480 with 1 Axes>",
      "image/png": "[encoded data removed]"
     },
     "metadata": {},
     "output_type": "display_data"
    }
   ],
   "source": [
    "df[\"pricepercent\"].hist(bins=4)"
   ],
   "metadata": {
    "collapsed": false,
    "ExecuteTime": {
     "end_time": "2024-09-07T14:51:38.915004Z",
     "start_time": "2024-09-07T14:51:38.798816Z"
    }
   },
   "id": "d67802ff735f6989",
   "execution_count": 9
  },
  {
   "cell_type": "markdown",
   "source": [
    "- Pricepercent may help to rank candies into 4 price categories.\n",
    "- It is unclear, for which price category Lidl plans to produce a candy. Is it relevant here?"
   ],
   "metadata": {
    "collapsed": false
   },
   "id": "358135f326ac3986"
  },
  {
   "cell_type": "markdown",
   "source": [
    "## Thoughts\n",
    "- Winpercent varies between 0 and 1 - it may have implications for model selection.\n",
    "- The vast majority of features are binary.\n",
    "- The dataset is very small, so we may need to be careful with the number of features we include in the model.\n",
    "- How many candy features are enough? E.g., chocolate vs chocolate-peanutyalmondy vs chocolate-peanutyalmondy-bar vs chocolate-peanutyalmondy-bar-fruity? \n",
    "- What combinations of features are the most popular?\n",
    "- 6 features are about the taste, 3 are about the texture, 1 is about the sugar content, 1 is about price.\n",
    "- Can pricepercent be interpreted as \"quality\" feature?\n",
    "- Fruity vs. chocolate - fruity in terms of flavor is often a \"standalone\" thing. Chocolate is often combined with other flavors.\n",
    "- Caramel, nougat are mostly not standalone flavors."
   ],
   "metadata": {
    "collapsed": false
   },
   "id": "efa988aff19bf45c"
  },
  {
   "cell_type": "code",
   "outputs": [],
   "source": [
    "X = df[['chocolate', 'fruity', 'caramel', 'peanutyalmondy',\n",
    "        'nougat', 'crispedricewafer', 'hard', 'bar', 'pluribus', 'sugarpercent']]\n",
    "y = df[\"winpercent\"]\n",
    "reg = LinearRegression().fit(X, y)"
   ],
   "metadata": {
    "collapsed": false,
    "ExecuteTime": {
     "end_time": "2024-09-07T14:54:51.461096Z",
     "start_time": "2024-09-07T14:54:51.456461Z"
    }
   },
   "id": "1561171ec4a51a65",
   "execution_count": 18
  },
  {
   "cell_type": "code",
   "outputs": [
    {
     "data": {
      "text/plain": "array([19.21568138,  9.58672878,  1.9820335 ,  9.45442976,  1.9179501 ,\n        8.63672609, -5.86574674, -1.233272  , -1.14670499,  7.49048634])"
     },
     "execution_count": 19,
     "metadata": {},
     "output_type": "execute_result"
    }
   ],
   "source": [
    "reg.coef_"
   ],
   "metadata": {
    "collapsed": false,
    "ExecuteTime": {
     "end_time": "2024-09-07T14:54:52.482381Z",
     "start_time": "2024-09-07T14:54:52.477579Z"
    }
   },
   "id": "f37129da8dd0c762",
   "execution_count": 19
  },
  {
   "cell_type": "code",
   "outputs": [],
   "source": [
    "X = df[['chocolate', 'fruity', 'caramel', 'peanutyalmondy',\n",
    "        'nougat', 'crispedricewafer', 'hard', 'bar', 'pluribus', 'sugarpercent', 'pricepercent']]\n",
    "y = df[\"winpercent\"]\n",
    "X = sm.add_constant(X)\n",
    "mod = OLS(y, X)\n",
    "res = mod.fit()"
   ],
   "metadata": {
    "collapsed": false,
    "ExecuteTime": {
     "end_time": "2024-09-07T14:57:58.462643Z",
     "start_time": "2024-09-07T14:57:58.444919Z"
    }
   },
   "id": "9d3cbd1af7376ac9",
   "execution_count": 29
  },
  {
   "cell_type": "code",
   "outputs": [
    {
     "name": "stdout",
     "output_type": "stream",
     "text": [
      "                            OLS Regression Results                            \n",
      "==============================================================================\n",
      "Dep. Variable:             winpercent   R-squared:                       0.540\n",
      "Model:                            OLS   Adj. R-squared:                  0.471\n",
      "Method:                 Least Squares   F-statistic:                     7.797\n",
      "Date:                Sat, 07 Sep 2024   Prob (F-statistic):           9.50e-09\n",
      "Time:                        16:58:00   Log-Likelihood:                -315.64\n",
      "No. Observations:                  85   AIC:                             655.3\n",
      "Df Residuals:                      73   BIC:                             684.6\n",
      "Df Model:                          11                                         \n",
      "Covariance Type:            nonrobust                                         \n",
      "====================================================================================\n",
      "                       coef    std err          t      P>|t|      [0.025      0.975]\n",
      "------------------------------------------------------------------------------------\n",
      "const               34.5340      4.320      7.994      0.000      25.924      43.144\n",
      "chocolate           19.7481      3.899      5.065      0.000      11.978      27.518\n",
      "fruity               9.4223      3.763      2.504      0.015       1.923      16.922\n",
      "caramel              2.2245      3.657      0.608      0.545      -5.065       9.514\n",
      "peanutyalmondy      10.0707      3.616      2.785      0.007       2.864      17.277\n",
      "nougat               0.8043      5.716      0.141      0.888     -10.588      12.197\n",
      "crispedricewafer     8.9190      5.268      1.693      0.095      -1.580      19.418\n",
      "hard                -6.1653      3.455     -1.784      0.079     -13.051       0.721\n",
      "bar                  0.4415      5.061      0.087      0.931      -9.645      10.528\n",
      "pluribus            -0.8545      3.040     -0.281      0.779      -6.913       5.204\n",
      "sugarpercent         9.0868      4.659      1.950      0.055      -0.200      18.373\n",
      "pricepercent        -5.9284      5.513     -1.075      0.286     -16.916       5.060\n",
      "==============================================================================\n",
      "Omnibus:                        1.025   Durbin-Watson:                   1.728\n",
      "Prob(Omnibus):                  0.599   Jarque-Bera (JB):                1.000\n",
      "Skew:                          -0.104   Prob(JB):                        0.606\n",
      "Kurtosis:                       2.511   Cond. No.                         10.0\n",
      "==============================================================================\n",
      "\n",
      "Notes:\n",
      "[1] Standard Errors assume that the covariance matrix of the errors is correctly specified.\n"
     ]
    }
   ],
   "source": [
    "print(res.summary())"
   ],
   "metadata": {
    "collapsed": false,
    "ExecuteTime": {
     "end_time": "2024-09-07T14:58:00.115436Z",
     "start_time": "2024-09-07T14:58:00.098382Z"
    }
   },
   "id": "1e9c1b92091e8f70",
   "execution_count": 30
  },
  {
   "cell_type": "code",
   "outputs": [],
   "source": [
    "from statsmodels.formula.api import ols"
   ],
   "metadata": {
    "collapsed": false,
    "ExecuteTime": {
     "end_time": "2024-09-07T15:00:52.885517Z",
     "start_time": "2024-09-07T15:00:52.880213Z"
    }
   },
   "id": "96426a0121c83d1f",
   "execution_count": 31
  },
  {
   "cell_type": "code",
   "outputs": [
    {
     "name": "stdout",
     "output_type": "stream",
     "text": [
      "                            OLS Regression Results                            \n",
      "==============================================================================\n",
      "Dep. Variable:             winpercent   R-squared:                       0.553\n",
      "Model:                            OLS   Adj. R-squared:                  0.485\n",
      "Method:                 Least Squares   F-statistic:                     8.205\n",
      "Date:                Sat, 07 Sep 2024   Prob (F-statistic):           3.79e-09\n",
      "Time:                        17:29:06   Log-Likelihood:                -314.45\n",
      "No. Observations:                  85   AIC:                             652.9\n",
      "Df Residuals:                      73   BIC:                             682.2\n",
      "Df Model:                          11                                         \n",
      "Covariance Type:            nonrobust                                         \n",
      "============================================================================================\n",
      "                               coef    std err          t      P>|t|      [0.025      0.975]\n",
      "--------------------------------------------------------------------------------------------\n",
      "Intercept                   35.4467      4.273      8.296      0.000      26.931      43.962\n",
      "chocolate                   15.5466      4.322      3.597      0.001       6.932      24.161\n",
      "fruity                       7.3549      3.909      1.882      0.064      -0.436      15.145\n",
      "caramel                      0.7619      3.663      0.208      0.836      -6.538       8.062\n",
      "peanutyalmondy              -4.9640      8.737     -0.568      0.572     -22.376      12.448\n",
      "nougat                       4.3115      5.701      0.756      0.452      -7.050      15.673\n",
      "crispedricewafer             9.7298      5.224      1.863      0.067      -0.681      20.141\n",
      "hard                        -5.8549      3.396     -1.724      0.089     -12.624       0.914\n",
      "bar                         -0.4559      4.768     -0.096      0.924      -9.959       9.047\n",
      "pluribus                    -0.6153      3.001     -0.205      0.838      -6.595       5.365\n",
      "sugarpercent                 7.0806      4.361      1.623      0.109      -1.612      15.773\n",
      "chocolate:peanutyalmondy    17.1818      9.528      1.803      0.075      -1.808      36.172\n",
      "==============================================================================\n",
      "Omnibus:                        0.811   Durbin-Watson:                   1.757\n",
      "Prob(Omnibus):                  0.667   Jarque-Bera (JB):                0.887\n",
      "Skew:                          -0.123   Prob(JB):                        0.642\n",
      "Kurtosis:                       2.564   Cond. No.                         16.7\n",
      "==============================================================================\n",
      "\n",
      "Notes:\n",
      "[1] Standard Errors assume that the covariance matrix of the errors is correctly specified.\n"
     ]
    }
   ],
   "source": [
    "model = ols(\n",
    "    'winpercent ~ chocolate + fruity + caramel + peanutyalmondy + nougat + crispedricewafer + hard + bar + pluribus + sugarpercent + chocolate*peanutyalmondy',\n",
    "    data=df).fit()\n",
    "print(model.summary())"
   ],
   "metadata": {
    "collapsed": false,
    "ExecuteTime": {
     "end_time": "2024-09-07T15:29:06.341114Z",
     "start_time": "2024-09-07T15:29:06.326500Z"
    }
   },
   "id": "173188976014bec5",
   "execution_count": 65
  },
  {
   "cell_type": "code",
   "outputs": [],
   "source": [
    "from statsmodels.formula.api import logit"
   ],
   "metadata": {
    "collapsed": false,
    "ExecuteTime": {
     "end_time": "2024-09-07T15:09:20.542057Z",
     "start_time": "2024-09-07T15:09:20.539495Z"
    }
   },
   "id": "410a8ffe6130dc40",
   "execution_count": 46
  },
  {
   "cell_type": "code",
   "outputs": [],
   "source": "df[\"winpercent_unit\"] = df[\"winpercent\"] / 100",
   "metadata": {
    "collapsed": false,
    "ExecuteTime": {
     "end_time": "2024-09-07T15:10:16.210551Z",
     "start_time": "2024-09-07T15:10:16.207060Z"
    }
   },
   "id": "77c2ced69acccc0d",
   "execution_count": 48
  },
  {
   "cell_type": "code",
   "outputs": [
    {
     "name": "stdout",
     "output_type": "stream",
     "text": [
      "Optimization terminated successfully.\n",
      "         Current function value: 0.650350\n",
      "         Iterations 4\n"
     ]
    }
   ],
   "source": [
    "model = logit(\n",
    "    'winpercent_unit ~ chocolate + fruity + caramel + peanutyalmondy + nougat + crispedricewafer + hard + bar + pluribus',\n",
    "    data=df).fit()"
   ],
   "metadata": {
    "collapsed": false,
    "ExecuteTime": {
     "end_time": "2024-09-07T15:13:06.611246Z",
     "start_time": "2024-09-07T15:13:06.592041Z"
    }
   },
   "id": "51529ddd631e35d7",
   "execution_count": 56
  },
  {
   "cell_type": "code",
   "outputs": [
    {
     "name": "stdout",
     "output_type": "stream",
     "text": [
      "                           Logit Regression Results                           \n",
      "==============================================================================\n",
      "Dep. Variable:        winpercent_unit   No. Observations:                   85\n",
      "Model:                          Logit   Df Residuals:                       75\n",
      "Method:                           MLE   Df Model:                            9\n",
      "Date:                Sat, 07 Sep 2024   Pseudo R-squ.:                 0.06143\n",
      "Time:                        17:13:07   Log-Likelihood:                -55.280\n",
      "converged:                       True   LL-Null:                       -58.898\n",
      "Covariance Type:            nonrobust   LLR p-value:                    0.6126\n",
      "====================================================================================\n",
      "                       coef    std err          z      P>|z|      [0.025      0.975]\n",
      "------------------------------------------------------------------------------------\n",
      "Intercept           -0.6243      0.781     -0.799      0.424      -2.155       0.906\n",
      "chocolate            0.8155      0.739      1.104      0.270      -0.632       2.263\n",
      "fruity               0.4347      0.725      0.600      0.549      -0.986       1.855\n",
      "caramel              0.1486      0.686      0.217      0.829      -1.197       1.494\n",
      "peanutyalmondy       0.4343      0.692      0.628      0.530      -0.921       1.790\n",
      "nougat               0.0998      1.076      0.093      0.926      -2.009       2.209\n",
      "crispedricewafer     0.3855      1.023      0.377      0.706      -1.619       2.390\n",
      "hard                -0.2017      0.649     -0.311      0.756      -1.474       1.070\n",
      "bar                 -0.0280      0.920     -0.030      0.976      -1.832       1.776\n",
      "pluribus            -0.0057      0.567     -0.010      0.992      -1.118       1.106\n",
      "====================================================================================\n"
     ]
    }
   ],
   "source": [
    "print(model.summary())"
   ],
   "metadata": {
    "collapsed": false,
    "ExecuteTime": {
     "end_time": "2024-09-07T15:13:07.214981Z",
     "start_time": "2024-09-07T15:13:07.197635Z"
    }
   },
   "id": "d199be36544425b0",
   "execution_count": 57
  },
  {
   "cell_type": "code",
   "outputs": [
    {
     "name": "stdout",
     "output_type": "stream",
     "text": [
      "        Logit Marginal Effects       \n",
      "=====================================\n",
      "Dep. Variable:        winpercent_unit\n",
      "Method:                          dydx\n",
      "At:                           overall\n",
      "====================================================================================\n",
      "                      dy/dx    std err          z      P>|z|      [0.025      0.975]\n",
      "------------------------------------------------------------------------------------\n",
      "chocolate            0.1949      0.171      1.137      0.256      -0.141       0.531\n",
      "fruity               0.1039      0.172      0.605      0.545      -0.233       0.441\n",
      "caramel              0.0355      0.164      0.217      0.828      -0.286       0.357\n",
      "peanutyalmondy       0.1038      0.164      0.633      0.526      -0.217       0.425\n",
      "nougat               0.0238      0.257      0.093      0.926      -0.480       0.528\n",
      "crispedricewafer     0.0921      0.244      0.378      0.705      -0.385       0.570\n",
      "hard                -0.0482      0.155     -0.311      0.755      -0.351       0.255\n",
      "bar                 -0.0067      0.220     -0.030      0.976      -0.438       0.424\n",
      "pluribus            -0.0014      0.136     -0.010      0.992      -0.267       0.264\n",
      "====================================================================================\n"
     ]
    }
   ],
   "source": [
    "mfx = model.get_margeff()\n",
    "print(mfx.summary())"
   ],
   "metadata": {
    "collapsed": false,
    "ExecuteTime": {
     "end_time": "2024-09-07T15:13:12.879163Z",
     "start_time": "2024-09-07T15:13:12.867249Z"
    }
   },
   "id": "77da196075aa189c",
   "execution_count": 58
  },
  {
   "cell_type": "code",
   "outputs": [],
   "source": [],
   "metadata": {
    "collapsed": false
   },
   "id": "1348be04949241d",
   "execution_count": null
  }
 ],
 "metadata": {
  "kernelspec": {
   "display_name": "Python 3",
   "language": "python",
   "name": "python3"
  },
  "language_info": {
   "codemirror_mode": {
    "name": "ipython",
    "version": 2
   },
   "file_extension": ".py",
   "mimetype": "text/x-python",
   "name": "python",
   "nbconvert_exporter": "python",
   "pygments_lexer": "ipython2",
   "version": "2.7.6"
  }
 },
 "nbformat": 4,
 "nbformat_minor": 5
}
